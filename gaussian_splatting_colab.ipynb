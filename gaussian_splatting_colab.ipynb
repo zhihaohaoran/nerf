{
  "cells": [
    {
      "cell_type": "markdown",
      "metadata": {
        "id": "view-in-github",
        "colab_type": "text"
      },
      "source": [
        "<a href=\"https://colab.research.google.com/github/zhihaohaoran/nerf/blob/main/gaussian_splatting_colab.ipynb\" target=\"_parent\"><img src=\"https://colab.research.google.com/assets/colab-badge.svg\" alt=\"Open In Colab\"/></a>"
      ]
    },
    {
      "cell_type": "code",
      "execution_count": null,
      "metadata": {
        "id": "VjYy0F2gZIPR"
      },
      "outputs": [],
      "source": [
        "%cd /content\n",
        "!git clone --recursive https://github.com/camenduru/gaussian-splatting\n",
        "!pip install -q plyfile\n",
        "\n",
        "%cd /content/gaussian-splatting\n",
        "!pip install -q /content/gaussian-splatting/submodules/diff-gaussian-rasterization\n",
        "!pip install -q /content/gaussian-splatting/submodules/simple-knn\n",
        "\n",
        "!wget https://huggingface.co/camenduru/gaussian-splatting/resolve/main/tandt_db.zip\n",
        "!unzip tandt_db.zip\n",
        "\n",
        "!python train.py -s /content/gaussian-splatting/tandt/train\n",
        "\n",
        "# !wget https://huggingface.co/camenduru/gaussian-splatting/resolve/main/GaussianViewTest.zip\n",
        "# !unzip GaussianViewTest.zip\n",
        "# !python render.py -m /content/gaussian-splatting/GaussianViewTest/model\n",
        "# !ffmpeg -framerate 3 -i /content/gaussian-splatting/GaussianViewTest/model/train/ours_30000/renders/%05d.png -vf \"pad=ceil(iw/2)*2:ceil(ih/2)*2\" -c:v libx264 -r 3 -pix_fmt yuv420p /content/renders.mp4\n",
        "# !ffmpeg -framerate 3 -i /content/gaussian-splatting/GaussianViewTest/model/train/ours_30000/gt/%05d.png -vf \"pad=ceil(iw/2)*2:ceil(ih/2)*2\" -c:v libx264 -r 3 -pix_fmt yuv420p /content/gt.mp4 -y"
      ]
    },
    {
      "cell_type": "code",
      "source": [
        "from google.colab import drive\n",
        "drive.mount('/content/drive')"
      ],
      "metadata": {
        "id": "WhoWJ5zm0pBw",
        "outputId": "011b6cbb-213e-4add-b093-d2f86db72315",
        "colab": {
          "base_uri": "https://localhost:8080/"
        }
      },
      "execution_count": 1,
      "outputs": [
        {
          "output_type": "stream",
          "name": "stdout",
          "text": [
            "Mounted at /content/drive\n"
          ]
        }
      ]
    },
    {
      "cell_type": "code",
      "source": [
        "%cd /content/drive/MyDrive/3dgs/3dgscream/original_3dgs/gaussian-splatting"
      ],
      "metadata": {
        "id": "M5eoK8VV06SX",
        "outputId": "7a58130a-9e4a-452b-fa75-f6c31b6dfb87",
        "colab": {
          "base_uri": "https://localhost:8080/"
        }
      },
      "execution_count": null,
      "outputs": [
        {
          "output_type": "stream",
          "name": "stdout",
          "text": [
            "/content/drive/MyDrive/3dgs/3dgscream/original_3dgs/gaussian-splatting\n"
          ]
        }
      ]
    },
    {
      "cell_type": "code",
      "source": [
        "!pip install -q plyfile"
      ],
      "metadata": {
        "id": "soc_OMMQ09jc"
      },
      "execution_count": 10,
      "outputs": []
    },
    {
      "cell_type": "code",
      "source": [
        "!pip install -q /content/drive/MyDrive/3dgs/3dgscream/original_3dgs/gaussian-splatting/submodules/diff-gaussian-rasterization\n",
        "!pip install -q /content/drive/MyDrive/3dgs/3dgscream/original_3dgs/gaussian-splatting/submodules/simple-knn"
      ],
      "metadata": {
        "id": "C5bQOgjh1ENB",
        "outputId": "25f6ea25-3a30-4d05-b039-58b39646344f",
        "colab": {
          "base_uri": "https://localhost:8080/"
        }
      },
      "execution_count": 11,
      "outputs": [
        {
          "output_type": "stream",
          "name": "stdout",
          "text": [
            "  Preparing metadata (setup.py) ... \u001b[?25l\u001b[?25hdone\n",
            "  Building wheel for diff_gaussian_rasterization (setup.py) ... \u001b[?25l\u001b[?25hdone\n",
            "  Preparing metadata (setup.py) ... \u001b[?25l\u001b[?25hdone\n",
            "  Building wheel for simple_knn (setup.py) ... \u001b[?25l\u001b[?25hdone\n"
          ]
        }
      ]
    },
    {
      "cell_type": "code",
      "source": [
        "!wget https://huggingface.co/camenduru/gaussian-splatting/resolve/main/tandt_db.zip"
      ],
      "metadata": {
        "id": "2MGNt8bx1nuW",
        "outputId": "cced0cfe-9f12-4f1b-cd5f-55fb79c79933",
        "colab": {
          "base_uri": "https://localhost:8080/"
        }
      },
      "execution_count": null,
      "outputs": [
        {
          "output_type": "stream",
          "name": "stdout",
          "text": [
            "--2024-12-09 00:34:28--  https://huggingface.co/camenduru/gaussian-splatting/resolve/main/tandt_db.zip\n",
            "Resolving huggingface.co (huggingface.co)... 65.8.243.16, 65.8.243.46, 65.8.243.92, ...\n",
            "Connecting to huggingface.co (huggingface.co)|65.8.243.16|:443... connected.\n",
            "HTTP request sent, awaiting response... 302 Found\n",
            "Location: https://cdn-lfs.hf.co/repos/69/11/6911555bcb5edae447d514169831329398b45a3ed9ae3b00817878bc501559a1/816e62f22a161abbfe841d2a6b10cdf036e297c9fa289b3bfeee9c6ec526d7e1?response-content-disposition=inline%3B+filename*%3DUTF-8%27%27tandt_db.zip%3B+filename%3D%22tandt_db.zip%22%3B&response-content-type=application%2Fzip&Expires=1733963668&Policy=eyJTdGF0ZW1lbnQiOlt7IkNvbmRpdGlvbiI6eyJEYXRlTGVzc1RoYW4iOnsiQVdTOkVwb2NoVGltZSI6MTczMzk2MzY2OH19LCJSZXNvdXJjZSI6Imh0dHBzOi8vY2RuLWxmcy5oZi5jby9yZXBvcy82OS8xMS82OTExNTU1YmNiNWVkYWU0NDdkNTE0MTY5ODMxMzI5Mzk4YjQ1YTNlZDlhZTNiMDA4MTc4NzhiYzUwMTU1OWExLzgxNmU2MmYyMmExNjFhYmJmZTg0MWQyYTZiMTBjZGYwMzZlMjk3YzlmYTI4OWIzYmZlZWU5YzZlYzUyNmQ3ZTE%7EcmVzcG9uc2UtY29udGVudC1kaXNwb3NpdGlvbj0qJnJlc3BvbnNlLWNvbnRlbnQtdHlwZT0qIn1dfQ__&Signature=Yzq0GiUwT4sbviuzsbETaWhSvf2aIQuyD2ef%7Eu1kqcvBRxpVTEJ1dckAFsavJ368JU4AYAlzTRbAcYsWrGMkJmoFsrzz8mQ98KZmjhkp56J8o87-dq0Olc1qWW6hQDZOxPC1EdMyWaU8lE%7Ega1N62h%7EvpHWmF48vlGoAwf%7E5DMc0mc9LBp2q3oaALwZ5l4n0Q7ownuKvw3xyTiNCqxSwZEmGmtl-NFOQUml%7ETMXQe4hPveFPPLCOEz8lcqKy%7EoVB5XoAD9jKQxl3cXe7byr-k4PPBaBvNCNiEcITxtrJ9vugWR4KaHYWUVGH9Uja5JiqkyoHpgKxk4Rngm9ZMJGa8g__&Key-Pair-Id=K3RPWS32NSSJCE [following]\n",
            "--2024-12-09 00:34:28--  https://cdn-lfs.hf.co/repos/69/11/6911555bcb5edae447d514169831329398b45a3ed9ae3b00817878bc501559a1/816e62f22a161abbfe841d2a6b10cdf036e297c9fa289b3bfeee9c6ec526d7e1?response-content-disposition=inline%3B+filename*%3DUTF-8%27%27tandt_db.zip%3B+filename%3D%22tandt_db.zip%22%3B&response-content-type=application%2Fzip&Expires=1733963668&Policy=eyJTdGF0ZW1lbnQiOlt7IkNvbmRpdGlvbiI6eyJEYXRlTGVzc1RoYW4iOnsiQVdTOkVwb2NoVGltZSI6MTczMzk2MzY2OH19LCJSZXNvdXJjZSI6Imh0dHBzOi8vY2RuLWxmcy5oZi5jby9yZXBvcy82OS8xMS82OTExNTU1YmNiNWVkYWU0NDdkNTE0MTY5ODMxMzI5Mzk4YjQ1YTNlZDlhZTNiMDA4MTc4NzhiYzUwMTU1OWExLzgxNmU2MmYyMmExNjFhYmJmZTg0MWQyYTZiMTBjZGYwMzZlMjk3YzlmYTI4OWIzYmZlZWU5YzZlYzUyNmQ3ZTE%7EcmVzcG9uc2UtY29udGVudC1kaXNwb3NpdGlvbj0qJnJlc3BvbnNlLWNvbnRlbnQtdHlwZT0qIn1dfQ__&Signature=Yzq0GiUwT4sbviuzsbETaWhSvf2aIQuyD2ef%7Eu1kqcvBRxpVTEJ1dckAFsavJ368JU4AYAlzTRbAcYsWrGMkJmoFsrzz8mQ98KZmjhkp56J8o87-dq0Olc1qWW6hQDZOxPC1EdMyWaU8lE%7Ega1N62h%7EvpHWmF48vlGoAwf%7E5DMc0mc9LBp2q3oaALwZ5l4n0Q7ownuKvw3xyTiNCqxSwZEmGmtl-NFOQUml%7ETMXQe4hPveFPPLCOEz8lcqKy%7EoVB5XoAD9jKQxl3cXe7byr-k4PPBaBvNCNiEcITxtrJ9vugWR4KaHYWUVGH9Uja5JiqkyoHpgKxk4Rngm9ZMJGa8g__&Key-Pair-Id=K3RPWS32NSSJCE\n",
            "Resolving cdn-lfs.hf.co (cdn-lfs.hf.co)... 18.160.225.14, 18.160.225.92, 18.160.225.18, ...\n",
            "Connecting to cdn-lfs.hf.co (cdn-lfs.hf.co)|18.160.225.14|:443... connected.\n",
            "HTTP request sent, awaiting response... 200 OK\n",
            "Length: 682628995 (651M) [application/zip]\n",
            "Saving to: ‘tandt_db.zip’\n",
            "\n",
            "tandt_db.zip        100%[===================>] 651.00M  83.2MB/s    in 7.7s    \n",
            "\n",
            "2024-12-09 00:34:36 (84.6 MB/s) - ‘tandt_db.zip’ saved [682628995/682628995]\n",
            "\n"
          ]
        }
      ]
    },
    {
      "cell_type": "markdown",
      "source": [],
      "metadata": {
        "id": "iag1ZxGF1vGf"
      }
    },
    {
      "cell_type": "code",
      "source": [],
      "metadata": {
        "id": "Mlg5co4EAevr"
      },
      "execution_count": null,
      "outputs": []
    },
    {
      "cell_type": "code",
      "source": [
        "%cd /content/drive/MyDrive/3dgs/3dgscream/original_3dgs/gaussian-splatting"
      ],
      "metadata": {
        "id": "4lkQDrkuAI5b",
        "outputId": "362275aa-a329-411b-e836-bd2faf15a666",
        "colab": {
          "base_uri": "https://localhost:8080/"
        }
      },
      "execution_count": null,
      "outputs": [
        {
          "output_type": "stream",
          "name": "stdout",
          "text": [
            "/content/drive/MyDrive/3dgs/3dgscream/original_3dgs/gaussian-splatting\n"
          ]
        }
      ]
    },
    {
      "cell_type": "code",
      "source": [
        "!wget https://huggingface.co/camenduru/gaussian-splatting/resolve/main/GaussianViewTest.zip"
      ],
      "metadata": {
        "id": "zWAUSaQD_6T2",
        "outputId": "1c03fc58-2ac5-4afb-a625-3cfea027dd66",
        "colab": {
          "base_uri": "https://localhost:8080/"
        }
      },
      "execution_count": null,
      "outputs": [
        {
          "output_type": "stream",
          "name": "stdout",
          "text": [
            "--2024-12-09 01:20:18--  https://huggingface.co/camenduru/gaussian-splatting/resolve/main/GaussianViewTest.zip\n",
            "Resolving huggingface.co (huggingface.co)... 65.8.243.92, 65.8.243.46, 65.8.243.16, ...\n",
            "Connecting to huggingface.co (huggingface.co)|65.8.243.92|:443... connected.\n",
            "HTTP request sent, awaiting response... 302 Found\n",
            "Location: https://cdn-lfs.hf.co/repos/69/11/6911555bcb5edae447d514169831329398b45a3ed9ae3b00817878bc501559a1/04543c347c164deaec3f0f4b585a7e9bb15b08a01607fdb4bfda88e8109d9238?response-content-disposition=inline%3B+filename*%3DUTF-8%27%27GaussianViewTest.zip%3B+filename%3D%22GaussianViewTest.zip%22%3B&response-content-type=application%2Fzip&Expires=1733966419&Policy=eyJTdGF0ZW1lbnQiOlt7IkNvbmRpdGlvbiI6eyJEYXRlTGVzc1RoYW4iOnsiQVdTOkVwb2NoVGltZSI6MTczMzk2NjQxOX19LCJSZXNvdXJjZSI6Imh0dHBzOi8vY2RuLWxmcy5oZi5jby9yZXBvcy82OS8xMS82OTExNTU1YmNiNWVkYWU0NDdkNTE0MTY5ODMxMzI5Mzk4YjQ1YTNlZDlhZTNiMDA4MTc4NzhiYzUwMTU1OWExLzA0NTQzYzM0N2MxNjRkZWFlYzNmMGY0YjU4NWE3ZTliYjE1YjA4YTAxNjA3ZmRiNGJmZGE4OGU4MTA5ZDkyMzg%7EcmVzcG9uc2UtY29udGVudC1kaXNwb3NpdGlvbj0qJnJlc3BvbnNlLWNvbnRlbnQtdHlwZT0qIn1dfQ__&Signature=XbN0ZxHS6PWValON5z2O6d-Pa3zZ5NWb3JfoImCkJKDp8HNxDyZmDHga6144nADo9bISaETFkEZLGTK6LPc2dn-SFmvKiftcqvXFAtnWSjRJZMnrN7CTEsPIwfwa48DErdjQQ9N6BrRrSwqTcFZhJ%7E%7EIgo31YA%7E7d6hINWQvtDuqcSaxTTiCULURuMzDZYjRIAu8QxW6vtmxRHI0rH9DNqTIb4aCwCWMqPw6v95w6zFbzIp4NtdU41zbE5vGRyu8I7uAozk0VPPEmD6fAQpJUO5HoYeI5swZyAeADo7wl7C%7E4aQsRQj2IcE0zibm6VF36FzzsSVjECp8JS9VsgFaeA__&Key-Pair-Id=K3RPWS32NSSJCE [following]\n",
            "--2024-12-09 01:20:19--  https://cdn-lfs.hf.co/repos/69/11/6911555bcb5edae447d514169831329398b45a3ed9ae3b00817878bc501559a1/04543c347c164deaec3f0f4b585a7e9bb15b08a01607fdb4bfda88e8109d9238?response-content-disposition=inline%3B+filename*%3DUTF-8%27%27GaussianViewTest.zip%3B+filename%3D%22GaussianViewTest.zip%22%3B&response-content-type=application%2Fzip&Expires=1733966419&Policy=eyJTdGF0ZW1lbnQiOlt7IkNvbmRpdGlvbiI6eyJEYXRlTGVzc1RoYW4iOnsiQVdTOkVwb2NoVGltZSI6MTczMzk2NjQxOX19LCJSZXNvdXJjZSI6Imh0dHBzOi8vY2RuLWxmcy5oZi5jby9yZXBvcy82OS8xMS82OTExNTU1YmNiNWVkYWU0NDdkNTE0MTY5ODMxMzI5Mzk4YjQ1YTNlZDlhZTNiMDA4MTc4NzhiYzUwMTU1OWExLzA0NTQzYzM0N2MxNjRkZWFlYzNmMGY0YjU4NWE3ZTliYjE1YjA4YTAxNjA3ZmRiNGJmZGE4OGU4MTA5ZDkyMzg%7EcmVzcG9uc2UtY29udGVudC1kaXNwb3NpdGlvbj0qJnJlc3BvbnNlLWNvbnRlbnQtdHlwZT0qIn1dfQ__&Signature=XbN0ZxHS6PWValON5z2O6d-Pa3zZ5NWb3JfoImCkJKDp8HNxDyZmDHga6144nADo9bISaETFkEZLGTK6LPc2dn-SFmvKiftcqvXFAtnWSjRJZMnrN7CTEsPIwfwa48DErdjQQ9N6BrRrSwqTcFZhJ%7E%7EIgo31YA%7E7d6hINWQvtDuqcSaxTTiCULURuMzDZYjRIAu8QxW6vtmxRHI0rH9DNqTIb4aCwCWMqPw6v95w6zFbzIp4NtdU41zbE5vGRyu8I7uAozk0VPPEmD6fAQpJUO5HoYeI5swZyAeADo7wl7C%7E4aQsRQj2IcE0zibm6VF36FzzsSVjECp8JS9VsgFaeA__&Key-Pair-Id=K3RPWS32NSSJCE\n",
            "Resolving cdn-lfs.hf.co (cdn-lfs.hf.co)... 18.160.225.18, 18.160.225.90, 18.160.225.14, ...\n",
            "Connecting to cdn-lfs.hf.co (cdn-lfs.hf.co)|18.160.225.18|:443... connected.\n",
            "HTTP request sent, awaiting response... 200 OK\n",
            "Length: 487321454 (465M) [application/zip]\n",
            "Saving to: ‘GaussianViewTest.zip’\n",
            "\n",
            "GaussianViewTest.zi 100%[===================>] 464.75M  83.3MB/s    in 5.7s    \n",
            "\n",
            "2024-12-09 01:20:25 (82.2 MB/s) - ‘GaussianViewTest.zip’ saved [487321454/487321454]\n",
            "\n"
          ]
        }
      ]
    },
    {
      "cell_type": "code",
      "source": [
        "!python train.py -s /content/drive/MyDrive/3dgs/3dgscream/original_3dgs/gaussian-splatting/tandt/lego"
      ],
      "metadata": {
        "id": "1MniLf0h8uTg",
        "outputId": "3589768c-5fdd-42d3-998e-f55f8384c47c",
        "colab": {
          "base_uri": "https://localhost:8080/"
        }
      },
      "execution_count": null,
      "outputs": [
        {
          "output_type": "stream",
          "name": "stdout",
          "text": [
            "2024-12-09 13:29:34.534331: I tensorflow/core/util/port.cc:153] oneDNN custom operations are on. You may see slightly different numerical results due to floating-point round-off errors from different computation orders. To turn them off, set the environment variable `TF_ENABLE_ONEDNN_OPTS=0`.\n",
            "2024-12-09 13:29:34.551285: E external/local_xla/xla/stream_executor/cuda/cuda_fft.cc:485] Unable to register cuFFT factory: Attempting to register factory for plugin cuFFT when one has already been registered\n",
            "2024-12-09 13:29:34.572042: E external/local_xla/xla/stream_executor/cuda/cuda_dnn.cc:8454] Unable to register cuDNN factory: Attempting to register factory for plugin cuDNN when one has already been registered\n",
            "2024-12-09 13:29:34.578418: E external/local_xla/xla/stream_executor/cuda/cuda_blas.cc:1452] Unable to register cuBLAS factory: Attempting to register factory for plugin cuBLAS when one has already been registered\n",
            "2024-12-09 13:29:34.593793: I tensorflow/core/platform/cpu_feature_guard.cc:210] This TensorFlow binary is optimized to use available CPU instructions in performance-critical operations.\n",
            "To enable the following instructions: AVX2 AVX512F AVX512_VNNI FMA, in other operations, rebuild TensorFlow with the appropriate compiler flags.\n",
            "2024-12-09 13:29:35.677878: W tensorflow/compiler/tf2tensorrt/utils/py_utils.cc:38] TF-TRT Warning: Could not find TensorRT\n",
            "Optimizing \n",
            "Output folder: ./output/de27c87d-2 [09/12 13:29:37]\n",
            "Reading camera 100/100 [09/12 13:30:17]\n",
            "Converting point3d.bin to .ply, will happen only the first time you open the scene. [09/12 13:30:17]\n",
            "Loading Training Cameras [09/12 13:30:17]\n",
            "Loading Test Cameras [09/12 13:30:21]\n",
            "Number of points at initialisation :  13751 [09/12 13:30:21]\n",
            "Training progress:  23% 7000/30000 [01:34<04:53, 78.46it/s, Loss=0.0302422]\n",
            "[ITER 7000] Evaluating train: L1 0.007335145771503449 PSNR 31.385044860839844 [09/12 13:32:04]\n",
            "\n",
            "[ITER 7000] Saving Gaussians [09/12 13:32:04]\n",
            "Training progress: 100% 30000/30000 [06:59<00:00, 71.56it/s, Loss=0.0070414]\n",
            "\n",
            "[ITER 30000] Evaluating train: L1 0.005713744601234794 PSNR 33.11305656433105 [09/12 13:37:28]\n",
            "\n",
            "[ITER 30000] Saving Gaussians [09/12 13:37:28]\n",
            "\n",
            "Training complete. [09/12 13:37:32]\n"
          ]
        }
      ]
    },
    {
      "cell_type": "code",
      "source": [
        "!python /content/drive/MyDrive/3dgs/3dgscream/original_3dgs/gaussian-splatting/render.py -m /content/drive/MyDrive/3dgs/3dgscream/original_3dgs/gaussian-splatting/output/de27c87d-2"
      ],
      "metadata": {
        "id": "c8DsUAsb_lNc",
        "outputId": "6d0fe9f4-6ba2-48f0-b328-15540b173f56",
        "colab": {
          "base_uri": "https://localhost:8080/"
        }
      },
      "execution_count": 12,
      "outputs": [
        {
          "output_type": "stream",
          "name": "stdout",
          "text": [
            "Looking for config file in /content/drive/MyDrive/3dgs/3dgscream/original_3dgs/gaussian-splatting/output/de27c87d-2/cfg_args\n",
            "Config file found: /content/drive/MyDrive/3dgs/3dgscream/original_3dgs/gaussian-splatting/output/de27c87d-2/cfg_args\n",
            "Rendering /content/drive/MyDrive/3dgs/3dgscream/original_3dgs/gaussian-splatting/output/de27c87d-2\n",
            "Loading trained model at iteration 30000 [12/12 17:55:33]\n",
            "Reading camera 100/100 [12/12 17:56:18]\n",
            "Loading Training Cameras [12/12 17:56:19]\n",
            "Loading Test Cameras [12/12 17:56:22]\n",
            "Rendering progress: 100% 100/100 [00:23<00:00,  4.29it/s]\n",
            "Rendering progress: 0it [00:00, ?it/s]\n"
          ]
        }
      ]
    },
    {
      "cell_type": "code",
      "source": [
        "!pip install lpips"
      ],
      "metadata": {
        "id": "AoKnwPrXXUe0",
        "outputId": "8dae9529-1d8f-48a1-e518-69987f44996a",
        "colab": {
          "base_uri": "https://localhost:8080/"
        }
      },
      "execution_count": 5,
      "outputs": [
        {
          "output_type": "stream",
          "name": "stdout",
          "text": [
            "Requirement already satisfied: lpips in /usr/local/lib/python3.10/dist-packages (0.1.4)\n",
            "Requirement already satisfied: torch>=0.4.0 in /usr/local/lib/python3.10/dist-packages (from lpips) (2.5.1+cu121)\n",
            "Requirement already satisfied: torchvision>=0.2.1 in /usr/local/lib/python3.10/dist-packages (from lpips) (0.20.1+cu121)\n",
            "Requirement already satisfied: numpy>=1.14.3 in /usr/local/lib/python3.10/dist-packages (from lpips) (1.26.4)\n",
            "Requirement already satisfied: scipy>=1.0.1 in /usr/local/lib/python3.10/dist-packages (from lpips) (1.13.1)\n",
            "Requirement already satisfied: tqdm>=4.28.1 in /usr/local/lib/python3.10/dist-packages (from lpips) (4.66.6)\n",
            "Requirement already satisfied: filelock in /usr/local/lib/python3.10/dist-packages (from torch>=0.4.0->lpips) (3.16.1)\n",
            "Requirement already satisfied: typing-extensions>=4.8.0 in /usr/local/lib/python3.10/dist-packages (from torch>=0.4.0->lpips) (4.12.2)\n",
            "Requirement already satisfied: networkx in /usr/local/lib/python3.10/dist-packages (from torch>=0.4.0->lpips) (3.4.2)\n",
            "Requirement already satisfied: jinja2 in /usr/local/lib/python3.10/dist-packages (from torch>=0.4.0->lpips) (3.1.4)\n",
            "Requirement already satisfied: fsspec in /usr/local/lib/python3.10/dist-packages (from torch>=0.4.0->lpips) (2024.10.0)\n",
            "Requirement already satisfied: sympy==1.13.1 in /usr/local/lib/python3.10/dist-packages (from torch>=0.4.0->lpips) (1.13.1)\n",
            "Requirement already satisfied: mpmath<1.4,>=1.1.0 in /usr/local/lib/python3.10/dist-packages (from sympy==1.13.1->torch>=0.4.0->lpips) (1.3.0)\n",
            "Requirement already satisfied: pillow!=8.3.*,>=5.3.0 in /usr/local/lib/python3.10/dist-packages (from torchvision>=0.2.1->lpips) (11.0.0)\n",
            "Requirement already satisfied: MarkupSafe>=2.0 in /usr/local/lib/python3.10/dist-packages (from jinja2->torch>=0.4.0->lpips) (3.0.2)\n"
          ]
        }
      ]
    },
    {
      "cell_type": "code",
      "source": [
        "import os\n",
        "import sys\n",
        "import subprocess\n",
        "import numpy as np\n",
        "from glob import glob\n",
        "from PIL import Image\n",
        "\n",
        "\n",
        "from skimage.metrics import structural_similarity as ssim, peak_signal_noise_ratio as psnr\n",
        "import torch\n",
        "import lpips\n",
        "\n",
        "# Set the directories to your actual folders\n",
        "gt_dir = \"/content/drive/MyDrive/3dgs/3dgscream/original_3dgs/gaussian-splatting/output/de27c87d-2/train/ours_30000/gt\"\n",
        "renders_dir = \"/content/drive/MyDrive/3dgs/3dgscream/original_3dgs/gaussian-splatting/output/de27c87d-2/train/ours_30000/renders\"\n",
        "\n",
        "gt_images = sorted(glob(os.path.join(gt_dir, \"*\")))\n",
        "rendered_images = [os.path.join(renders_dir, os.path.basename(f)) for f in gt_images]\n",
        "\n",
        "# Initialize LPIPS model\n",
        "device = torch.device(\"cuda\" if torch.cuda.is_available() else \"cpu\")\n",
        "lpips_fn = lpips.LPIPS(net='alex').to(device)\n",
        "\n",
        "psnr_values = []\n",
        "ssim_values = []\n",
        "lpips_values = []\n",
        "\n",
        "for gt_path, rend_path in zip(gt_images, rendered_images):\n",
        "    # Load images\n",
        "    gt_img = np.array(Image.open(gt_path))\n",
        "    rend_img = np.array(Image.open(rend_path))\n",
        "\n",
        "    # Print shapes for debugging\n",
        "    print(f\"GT image shape: {gt_img.shape}, Rendered image shape: {rend_img.shape}\")\n",
        "\n",
        "    # Convert images to float32 in [0,1]\n",
        "    gt_img = gt_img.astype(np.float32) / 255.0\n",
        "    rend_img = rend_img.astype(np.float32) / 255.0\n",
        "\n",
        "    # Ensure images have the same shape\n",
        "    if gt_img.shape != rend_img.shape:\n",
        "        raise ValueError(f\"Image size mismatch: {gt_path} vs {rend_path}\")\n",
        "\n",
        "    # Determine if the images have a channel dimension\n",
        "    # If shape is (H, W, 3), it's RGB; set channel_axis=-1\n",
        "    # If shape is (H, W), it's grayscale; don't set channel_axis\n",
        "    if len(gt_img.shape) == 3 and gt_img.shape[-1] == 3:\n",
        "        # RGB image\n",
        "        current_ssim = ssim(gt_img, rend_img, data_range=1.0, channel_axis=-1)\n",
        "    else:\n",
        "        # Grayscale image\n",
        "        current_ssim = ssim(gt_img, rend_img, data_range=1.0)\n",
        "\n",
        "    ssim_values.append(current_ssim)\n",
        "\n",
        "    # Compute PSNR\n",
        "    current_psnr = psnr(gt_img, rend_img, data_range=1.0)\n",
        "    psnr_values.append(current_psnr)\n",
        "\n",
        "    # Compute LPIPS\n",
        "    gt_tensor = torch.from_numpy(gt_img).permute(2, 0, 1).unsqueeze(0)*2.0 - 1.0 if len(gt_img.shape) == 3 else torch.from_numpy(gt_img).unsqueeze(0).unsqueeze(0)*2.0 - 1.0\n",
        "    rend_tensor = torch.from_numpy(rend_img).permute(2, 0, 1).unsqueeze(0)*2.0 - 1.0 if len(rend_img.shape) == 3 else torch.from_numpy(rend_img).unsqueeze(0).unsqueeze(0)*2.0 - 1.0\n",
        "\n",
        "    gt_tensor = gt_tensor.to(device)\n",
        "    rend_tensor = rend_tensor.to(device)\n",
        "\n",
        "    with torch.no_grad():\n",
        "        current_lpips = lpips_fn(gt_tensor, rend_tensor).item()\n",
        "    lpips_values.append(current_lpips)\n",
        "\n",
        "# Compute means\n",
        "mean_psnr = np.mean(psnr_values)\n",
        "mean_ssim = np.mean(ssim_values)\n",
        "mean_lpips = np.mean(lpips_values)\n",
        "\n",
        "print(f\"Mean PSNR: {mean_psnr:.4f}\")\n",
        "print(f\"Mean SSIM: {mean_ssim:.4f}\")\n",
        "print(f\"Mean LPIPS: {mean_lpips:.4f}\")\n"
      ],
      "metadata": {
        "id": "cv-NcS3yWubU",
        "outputId": "2f1e3346-6b91-45a5-9bdd-3b31e5267b44",
        "colab": {
          "base_uri": "https://localhost:8080/"
        }
      },
      "execution_count": 15,
      "outputs": [
        {
          "output_type": "stream",
          "name": "stdout",
          "text": [
            "Setting up [LPIPS] perceptual loss: trunk [alex], v[0.1], spatial [off]\n",
            "Loading model from: /usr/local/lib/python3.10/dist-packages/lpips/weights/v0.1/alex.pth\n",
            "GT image shape: (800, 800, 3), Rendered image shape: (800, 800, 3)\n",
            "GT image shape: (800, 800, 3), Rendered image shape: (800, 800, 3)\n",
            "GT image shape: (800, 800, 3), Rendered image shape: (800, 800, 3)\n",
            "GT image shape: (800, 800, 3), Rendered image shape: (800, 800, 3)\n",
            "GT image shape: (800, 800, 3), Rendered image shape: (800, 800, 3)\n",
            "GT image shape: (800, 800, 3), Rendered image shape: (800, 800, 3)\n",
            "GT image shape: (800, 800, 3), Rendered image shape: (800, 800, 3)\n",
            "GT image shape: (800, 800, 3), Rendered image shape: (800, 800, 3)\n",
            "GT image shape: (800, 800, 3), Rendered image shape: (800, 800, 3)\n",
            "GT image shape: (800, 800, 3), Rendered image shape: (800, 800, 3)\n",
            "GT image shape: (800, 800, 3), Rendered image shape: (800, 800, 3)\n",
            "GT image shape: (800, 800, 3), Rendered image shape: (800, 800, 3)\n",
            "GT image shape: (800, 800, 3), Rendered image shape: (800, 800, 3)\n",
            "GT image shape: (800, 800, 3), Rendered image shape: (800, 800, 3)\n",
            "GT image shape: (800, 800, 3), Rendered image shape: (800, 800, 3)\n",
            "GT image shape: (800, 800, 3), Rendered image shape: (800, 800, 3)\n",
            "GT image shape: (800, 800, 3), Rendered image shape: (800, 800, 3)\n",
            "GT image shape: (800, 800, 3), Rendered image shape: (800, 800, 3)\n",
            "GT image shape: (800, 800, 3), Rendered image shape: (800, 800, 3)\n",
            "GT image shape: (800, 800, 3), Rendered image shape: (800, 800, 3)\n",
            "GT image shape: (800, 800, 3), Rendered image shape: (800, 800, 3)\n",
            "GT image shape: (800, 800, 3), Rendered image shape: (800, 800, 3)\n",
            "GT image shape: (800, 800, 3), Rendered image shape: (800, 800, 3)\n",
            "GT image shape: (800, 800, 3), Rendered image shape: (800, 800, 3)\n",
            "GT image shape: (800, 800, 3), Rendered image shape: (800, 800, 3)\n",
            "GT image shape: (800, 800, 3), Rendered image shape: (800, 800, 3)\n",
            "GT image shape: (800, 800, 3), Rendered image shape: (800, 800, 3)\n",
            "GT image shape: (800, 800, 3), Rendered image shape: (800, 800, 3)\n",
            "GT image shape: (800, 800, 3), Rendered image shape: (800, 800, 3)\n",
            "GT image shape: (800, 800, 3), Rendered image shape: (800, 800, 3)\n",
            "GT image shape: (800, 800, 3), Rendered image shape: (800, 800, 3)\n",
            "GT image shape: (800, 800, 3), Rendered image shape: (800, 800, 3)\n",
            "GT image shape: (800, 800, 3), Rendered image shape: (800, 800, 3)\n",
            "GT image shape: (800, 800, 3), Rendered image shape: (800, 800, 3)\n",
            "GT image shape: (800, 800, 3), Rendered image shape: (800, 800, 3)\n",
            "GT image shape: (800, 800, 3), Rendered image shape: (800, 800, 3)\n",
            "GT image shape: (800, 800, 3), Rendered image shape: (800, 800, 3)\n",
            "GT image shape: (800, 800, 3), Rendered image shape: (800, 800, 3)\n",
            "GT image shape: (800, 800, 3), Rendered image shape: (800, 800, 3)\n",
            "GT image shape: (800, 800, 3), Rendered image shape: (800, 800, 3)\n",
            "GT image shape: (800, 800, 3), Rendered image shape: (800, 800, 3)\n",
            "GT image shape: (800, 800, 3), Rendered image shape: (800, 800, 3)\n",
            "GT image shape: (800, 800, 3), Rendered image shape: (800, 800, 3)\n",
            "GT image shape: (800, 800, 3), Rendered image shape: (800, 800, 3)\n",
            "GT image shape: (800, 800, 3), Rendered image shape: (800, 800, 3)\n",
            "GT image shape: (800, 800, 3), Rendered image shape: (800, 800, 3)\n",
            "GT image shape: (800, 800, 3), Rendered image shape: (800, 800, 3)\n",
            "GT image shape: (800, 800, 3), Rendered image shape: (800, 800, 3)\n",
            "GT image shape: (800, 800, 3), Rendered image shape: (800, 800, 3)\n",
            "GT image shape: (800, 800, 3), Rendered image shape: (800, 800, 3)\n",
            "GT image shape: (800, 800, 3), Rendered image shape: (800, 800, 3)\n",
            "GT image shape: (800, 800, 3), Rendered image shape: (800, 800, 3)\n",
            "GT image shape: (800, 800, 3), Rendered image shape: (800, 800, 3)\n",
            "GT image shape: (800, 800, 3), Rendered image shape: (800, 800, 3)\n",
            "GT image shape: (800, 800, 3), Rendered image shape: (800, 800, 3)\n",
            "GT image shape: (800, 800, 3), Rendered image shape: (800, 800, 3)\n",
            "GT image shape: (800, 800, 3), Rendered image shape: (800, 800, 3)\n",
            "GT image shape: (800, 800, 3), Rendered image shape: (800, 800, 3)\n",
            "GT image shape: (800, 800, 3), Rendered image shape: (800, 800, 3)\n",
            "GT image shape: (800, 800, 3), Rendered image shape: (800, 800, 3)\n",
            "GT image shape: (800, 800, 3), Rendered image shape: (800, 800, 3)\n",
            "GT image shape: (800, 800, 3), Rendered image shape: (800, 800, 3)\n",
            "GT image shape: (800, 800, 3), Rendered image shape: (800, 800, 3)\n",
            "GT image shape: (800, 800, 3), Rendered image shape: (800, 800, 3)\n",
            "GT image shape: (800, 800, 3), Rendered image shape: (800, 800, 3)\n",
            "GT image shape: (800, 800, 3), Rendered image shape: (800, 800, 3)\n",
            "GT image shape: (800, 800, 3), Rendered image shape: (800, 800, 3)\n",
            "GT image shape: (800, 800, 3), Rendered image shape: (800, 800, 3)\n",
            "GT image shape: (800, 800, 3), Rendered image shape: (800, 800, 3)\n",
            "GT image shape: (800, 800, 3), Rendered image shape: (800, 800, 3)\n",
            "GT image shape: (800, 800, 3), Rendered image shape: (800, 800, 3)\n",
            "GT image shape: (800, 800, 3), Rendered image shape: (800, 800, 3)\n",
            "GT image shape: (800, 800, 3), Rendered image shape: (800, 800, 3)\n",
            "GT image shape: (800, 800, 3), Rendered image shape: (800, 800, 3)\n",
            "GT image shape: (800, 800, 3), Rendered image shape: (800, 800, 3)\n",
            "GT image shape: (800, 800, 3), Rendered image shape: (800, 800, 3)\n",
            "GT image shape: (800, 800, 3), Rendered image shape: (800, 800, 3)\n",
            "GT image shape: (800, 800, 3), Rendered image shape: (800, 800, 3)\n",
            "GT image shape: (800, 800, 3), Rendered image shape: (800, 800, 3)\n",
            "GT image shape: (800, 800, 3), Rendered image shape: (800, 800, 3)\n",
            "GT image shape: (800, 800, 3), Rendered image shape: (800, 800, 3)\n",
            "GT image shape: (800, 800, 3), Rendered image shape: (800, 800, 3)\n",
            "GT image shape: (800, 800, 3), Rendered image shape: (800, 800, 3)\n",
            "GT image shape: (800, 800, 3), Rendered image shape: (800, 800, 3)\n",
            "GT image shape: (800, 800, 3), Rendered image shape: (800, 800, 3)\n",
            "GT image shape: (800, 800, 3), Rendered image shape: (800, 800, 3)\n",
            "GT image shape: (800, 800, 3), Rendered image shape: (800, 800, 3)\n",
            "GT image shape: (800, 800, 3), Rendered image shape: (800, 800, 3)\n",
            "GT image shape: (800, 800, 3), Rendered image shape: (800, 800, 3)\n",
            "GT image shape: (800, 800, 3), Rendered image shape: (800, 800, 3)\n",
            "GT image shape: (800, 800, 3), Rendered image shape: (800, 800, 3)\n",
            "GT image shape: (800, 800, 3), Rendered image shape: (800, 800, 3)\n",
            "GT image shape: (800, 800, 3), Rendered image shape: (800, 800, 3)\n",
            "GT image shape: (800, 800, 3), Rendered image shape: (800, 800, 3)\n",
            "GT image shape: (800, 800, 3), Rendered image shape: (800, 800, 3)\n",
            "GT image shape: (800, 800, 3), Rendered image shape: (800, 800, 3)\n",
            "GT image shape: (800, 800, 3), Rendered image shape: (800, 800, 3)\n",
            "GT image shape: (800, 800, 3), Rendered image shape: (800, 800, 3)\n",
            "GT image shape: (800, 800, 3), Rendered image shape: (800, 800, 3)\n",
            "GT image shape: (800, 800, 3), Rendered image shape: (800, 800, 3)\n",
            "Mean PSNR: 15.3289\n",
            "Mean SSIM: 0.6956\n",
            "Mean LPIPS: 0.2242\n"
          ]
        }
      ]
    }
  ],
  "metadata": {
    "accelerator": "GPU",
    "colab": {
      "gpuType": "A100",
      "provenance": [],
      "machine_shape": "hm",
      "include_colab_link": true
    },
    "kernelspec": {
      "display_name": "Python 3",
      "name": "python3"
    },
    "language_info": {
      "name": "python"
    }
  },
  "nbformat": 4,
  "nbformat_minor": 0
}